{
 "cells": [
  {
   "cell_type": "code",
   "execution_count": 30,
   "id": "4e83f520",
   "metadata": {},
   "outputs": [],
   "source": [
    "from random import randint\n",
    "import math\n",
    "import pandas as pd\n",
    "import numpy as np\n",
    "import time"
   ]
  },
  {
   "cell_type": "code",
   "execution_count": 31,
   "id": "c703a88c",
   "metadata": {},
   "outputs": [
    {
     "name": "stdout",
     "output_type": "stream",
     "text": [
      "[[2 3 4 5 7]\n",
      " [4 3 1 2 6]\n",
      " [5 4 2 1 3]]\n",
      "[2, 3, 4, 5, 7, 4, 3, 1, 2, 6, 5, 4, 2, 1, 3]\n"
     ]
    }
   ],
   "source": [
    "m = [1,2,3,4,5]\n",
    "n = [1,2,3]\n",
    "f = [5,10,8]\n",
    "b = [20, 30, 25]\n",
    "d = [10, 8, 15, 7, 12]\n",
    "\n",
    "final = {\"1\":0,\"2\":0,\"3\":0,\"4\":0,\"5\":0,}\n",
    "total = 0\n",
    "\n",
    "mat = np.matrix([[2,3,4,5,7],[4,3,1,2,6],[5,4,2,1,3]])\n",
    "print(mat)\n",
    "\n",
    "mat2 = [2,3,4,5,7,4,3,1,2,6,5,4,2,1,3]\n",
    "print(mat2)"
   ]
  },
  {
   "cell_type": "code",
   "execution_count": 32,
   "id": "c4a195ae",
   "metadata": {},
   "outputs": [],
   "source": [
    "def check_crom(crom):\n",
    "    \n",
    "    if sum(crom[:5]) <= 20 and sum(crom[5:10]) <= 30 and sum(crom[10:15]) <= 25 and crom[0]+crom[5]+crom[10]>=10 and crom[1]+crom[6]+crom[11]>=8 and crom[2]+crom[7]+crom[12]>=15 and crom[3]+crom[8]+crom[13]>=7 and crom[4]+crom[9]+crom[14]>=12:\n",
    "    #if sum(crom[:5]) <= 20 and sum(crom[5:10]) <= 30 and sum(crom[10:15]) <= 25 and crom[0]+crom[5]+crom[10]==10 and crom[1]+crom[6]+crom[11]==8 and crom[2]+crom[7]+crom[12]==15 and crom[3]+crom[8]+crom[13]==7 and crom[4]+crom[9]+crom[14]==12:\n",
    "        return True \n",
    "    else:\n",
    "        return False \n"
   ]
  },
  {
   "cell_type": "code",
   "execution_count": 33,
   "id": "41f6db6e",
   "metadata": {},
   "outputs": [],
   "source": [
    "def generar_crom(x): \n",
    "    cromosomas = [] \n",
    "    \n",
    "    for i in range(x):\n",
    "        salir = False\n",
    "        \n",
    "        while salir == False:\n",
    "            crom = [randint(0,10),randint(0,8),randint(0,15),randint(0,7),randint(0,12),randint(0,10),randint(0,8),randint(0,15),randint(0,7),randint(0,12),randint(0,10),randint(0,8),randint(0,15),randint(0,7),randint(0,12)]\n",
    "            \n",
    "            if check_crom(crom):\n",
    "                cromosomas.append(crom)\n",
    "                salir = True\n",
    "        \n",
    "    return cromosomas\n"
   ]
  },
  {
   "cell_type": "code",
   "execution_count": 34,
   "id": "ae3c0f13",
   "metadata": {},
   "outputs": [],
   "source": [
    "def fitness(poblacion,costos):\n",
    "    \n",
    "    calculo = 0\n",
    "    \n",
    "    for ii in range(len(poblacion)):\n",
    "        calculo = 0\n",
    "        \n",
    "        for i,j in zip(poblacion[ii],costos): #calcualamos los costos multiplicando la matriz de cantidad de envio por la matriz de costos de enviar tal cantidad a tal cliente \n",
    "            calculo += i*j\n",
    "        \n",
    "        if sum(poblacion[ii][:5]) > 0: #checamos si se añaden costos fijos por aperturas de tiendas\n",
    "            calculo += 20\n",
    "        elif sum(poblacion[ii][5:10]) >0:\n",
    "            calculo += 30\n",
    "        elif sum(poblacion[ii][10:15]) >0:\n",
    "            calculo += 25\n",
    "            \n",
    "        poblacion[ii].append(calculo)\n",
    "        \n",
    "    return poblacion\n"
   ]
  },
  {
   "cell_type": "code",
   "execution_count": 35,
   "id": "9dad7fe9",
   "metadata": {},
   "outputs": [],
   "source": [
    "def selection(poblacion,tamaño):\n",
    "    poblacion_sorteada = sorted(poblacion, key=lambda x:x[15]) #sortemos la lista de poblacinoes por costo\n",
    "    \n",
    "    return poblacion_sorteada[0:int(tamaño/2)]"
   ]
  },
  {
   "cell_type": "code",
   "execution_count": 36,
   "id": "1fd50afa",
   "metadata": {},
   "outputs": [],
   "source": [
    "def crossover(pob,tamaño):\n",
    "    #agarar un padre y una madre aleatroios \n",
    "    #generar un hijo\n",
    "    \n",
    "    tam = len(pob)\n",
    "    \n",
    "    new_pob = []\n",
    "    \n",
    "    for i in range(tamaño):\n",
    "        salir = False\n",
    "        \n",
    "        while salir == False:\n",
    "            crom = pob[randint(0,tam-1)][:7] + pob[randint(0,tam-1)][7:15] #agarra uno mas de la madre que del padre \n",
    "            \n",
    "            if check_crom(crom):\n",
    "                new_pob.append(crom)\n",
    "                salir = True\n",
    "        \n",
    "    return new_pob"
   ]
  },
  {
   "cell_type": "code",
   "execution_count": 37,
   "id": "6a6d13a3",
   "metadata": {},
   "outputs": [],
   "source": [
    "def mutacion(pob):\n",
    "    \n",
    "    new_pob = []\n",
    "    \n",
    "    for i in range(len(pob)):\n",
    "        salir = False\n",
    "        \n",
    "        while salir == False:\n",
    "            crom = pob[i][:6] + [randint(0,8),randint(0,15),randint(0,7)] + pob[i][9:15]\n",
    "            \n",
    "            if check_crom(crom):\n",
    "                new_pob.append(crom)\n",
    "                salir = True \n",
    "                \n",
    "    return new_pob"
   ]
  },
  {
   "cell_type": "code",
   "execution_count": 51,
   "id": "b0a2ed5e",
   "metadata": {},
   "outputs": [
    {
     "name": "stdout",
     "output_type": "stream",
     "text": [
      "Se Logro\n",
      "[8, 4, 7, 0, 1, 0, 5, 3, 2, 1, 2, 0, 6, 5, 10, 168]\n",
      " \n",
      "Tiempo: 0.3391098976135254\n",
      "Generacion 3\n"
     ]
    }
   ],
   "source": [
    "inicio = time.time()\n",
    "\n",
    "tamaño = 100\n",
    "poblacion = generar_crom(tamaño)\n",
    "poblacion = fitness(poblacion,mat2)\n",
    "poblacion_seleccionada = selection(poblacion, tamaño)\n",
    "contador = 0\n",
    "\n",
    "if poblacion_seleccionada[0][15] >= 102:\n",
    "    salir = False\n",
    "\n",
    "while salir == False:\n",
    "    nueva_poblacion = crossover(poblacion_seleccionada, tamaño)\n",
    "    nueva_poblacion = mutacion(nueva_poblacion)\n",
    "    nueva_poblacion = fitness(nueva_poblacion,mat2)\n",
    "    nueva_poblacion_seleccionada = selection(nueva_poblacion, tamaño)\n",
    "    if nueva_poblacion_seleccionada[0][15] <= 170:\n",
    "        print(\"Se Logro\")\n",
    "        print(nueva_poblacion_seleccionada[0])\n",
    "        salir = True\n",
    "    else:\n",
    "        poblacion_seleccionada = nueva_poblacion_seleccionada\n",
    "        contador += 1\n",
    "\n",
    "fin = time.time()\n",
    "print(\" \")\n",
    "print(f\"Tiempo: {fin-inicio}\")\n",
    "print(f\"Generacion {contador}\")"
   ]
  },
  {
   "cell_type": "code",
   "execution_count": null,
   "id": "491b3194",
   "metadata": {},
   "outputs": [],
   "source": []
  },
  {
   "cell_type": "code",
   "execution_count": null,
   "id": "ccd9e52f",
   "metadata": {},
   "outputs": [],
   "source": []
  },
  {
   "cell_type": "code",
   "execution_count": null,
   "id": "b6011e87",
   "metadata": {},
   "outputs": [],
   "source": []
  },
  {
   "cell_type": "code",
   "execution_count": 60,
   "id": "facd14f8",
   "metadata": {
    "scrolled": false
   },
   "outputs": [
    {
     "name": "stdout",
     "output_type": "stream",
     "text": [
      "Poblacion Original\n",
      "0: [0, 7, 1, 1, 7, 10, 0, 7, 5, 4, 3, 1, 11, 5, 4] : 238\n",
      "1: [0, 5, 6, 1, 8, 8, 3, 7, 5, 2, 10, 0, 2, 2, 8] : 270\n",
      "2: [9, 1, 2, 4, 1, 3, 7, 12, 2, 6, 1, 0, 2, 7, 5] : 192\n",
      "3: [4, 0, 6, 7, 0, 8, 7, 7, 0, 7, 0, 8, 2, 6, 6] : 249\n",
      "4: [1, 7, 4, 5, 3, 3, 5, 9, 0, 9, 7, 4, 3, 6, 3] : 267\n",
      " \n",
      "Poblacion Seleccionada\n",
      "0: [9, 1, 2, 4, 1, 3, 7, 12, 2, 6, 1, 0, 2, 7, 5] : 192\n",
      "1: [10, 7, 0, 2, 1, 0, 3, 12, 7, 6, 1, 1, 8, 1, 8] : 199\n",
      "2: [8, 2, 6, 3, 1, 0, 7, 11, 1, 3, 3, 0, 4, 4, 11] : 200\n",
      "3: [1, 4, 4, 4, 2, 8, 3, 12, 4, 1, 1, 2, 7, 2, 9] : 207\n",
      "4: [9, 4, 1, 4, 2, 1, 5, 14, 5, 3, 3, 1, 8, 2, 10] : 216\n",
      " \n",
      "Nueva Poblacion\n",
      "0: [8, 2, 6, 3, 1, 0, 7, 5, 6, 3, 3, 1, 8, 2, 10] : 211\n",
      "1: [9, 1, 5, 4, 1, 4, 5, 10, 2, 2, 4, 5, 4, 1, 9] : 221\n",
      "2: [10, 2, 5, 2, 1, 5, 0, 12, 2, 6, 1, 6, 6, 4, 6] : 218\n",
      "3: [10, 7, 0, 2, 1, 0, 2, 11, 4, 3, 3, 0, 4, 4, 11] : 181\n",
      "4: [10, 1, 1, 0, 7, 1, 4, 13, 1, 6, 0, 7, 11, 6, 1] : 222\n",
      "Nueva Poblacion Seleccionada\n",
      "0: [10, 7, 0, 2, 1, 0, 2, 11, 4, 3, 3, 0, 4, 4, 11] : 181\n",
      "1: [2, 7, 2, 4, 1, 5, 0, 5, 2, 3, 3, 1, 8, 2, 10] : 194\n",
      "2: [10, 7, 0, 2, 1, 0, 4, 14, 5, 6, 1, 1, 8, 1, 8] : 200\n",
      "3: [6, 2, 6, 0, 2, 4, 2, 7, 6, 2, 4, 5, 4, 1, 9] : 205\n",
      "4: [9, 4, 1, 4, 2, 1, 4, 15, 6, 3, 3, 0, 4, 4, 11] : 209\n",
      " \n",
      "Tiempo: 0.180617094039917\n"
     ]
    }
   ],
   "source": [
    "inicio = time.time()\n",
    "\n",
    "tamaño = 50\n",
    "poblacion = generar_crom(tamaño)\n",
    "poblacion = fitness(poblacion,mat2)\n",
    "poblacion_seleccionada = selection(poblacion, tamaño) #sorteamos para conseguir la mitad de la poblacion que si nos interesa la \"mejor\"\n",
    "\n",
    "nueva_poblacion = crossover(poblacion_seleccionada, tamaño)\n",
    "nueva_poblacion = mutacion(nueva_poblacion)\n",
    "nueva_poblacion = fitness(nueva_poblacion,mat2)\n",
    "nueva_poblacion_seleccionada = selection(nueva_poblacion, tamaño)\n",
    "\n",
    "if nueva_poblacion_seleccionada[0][15] <= 170:\n",
    "    print(\"Se Logro\")\n",
    "\n",
    "tam = list(range(0, tamaño))\n",
    "\n",
    "print(\"Poblacion Original\")\n",
    "for i,j in zip(poblacion[:5], tam[:5]):\n",
    "    print(f\"{j}: {i[0:15]} : {i[15]}\")\n",
    "    \n",
    "print(\" \")\n",
    "\n",
    "print(\"Poblacion Seleccionada\")\n",
    "for i,j in zip(poblacion_seleccionada[:5], tam[:5]):\n",
    "    print(f\"{j}: {i[0:15]} : {i[15]}\")\n",
    "\n",
    "print(\" \")\n",
    "\n",
    "print(\"Nueva Poblacion\")\n",
    "for i,j in zip(nueva_poblacion[:5], tam[:5]):\n",
    "    print(f\"{j}: {i[0:15]} : {i[15]}\")\n",
    "    \n",
    "print(\"Nueva Poblacion Seleccionada\")\n",
    "for i,j in zip(nueva_poblacion_seleccionada[:5], tam[:5]):\n",
    "    print(f\"{j}: {i[0:15]} : {i[15]}\")\n",
    "    \n",
    "fin = time.time()\n",
    "print(\" \")\n",
    "print(f\"Tiempo: {fin-inicio}\")"
   ]
  },
  {
   "cell_type": "code",
   "execution_count": null,
   "id": "419619fc",
   "metadata": {},
   "outputs": [],
   "source": []
  }
 ],
 "metadata": {
  "kernelspec": {
   "display_name": "Python 3 (ipykernel)",
   "language": "python",
   "name": "python3"
  },
  "language_info": {
   "codemirror_mode": {
    "name": "ipython",
    "version": 3
   },
   "file_extension": ".py",
   "mimetype": "text/x-python",
   "name": "python",
   "nbconvert_exporter": "python",
   "pygments_lexer": "ipython3",
   "version": "3.9.12"
  }
 },
 "nbformat": 4,
 "nbformat_minor": 5
}
