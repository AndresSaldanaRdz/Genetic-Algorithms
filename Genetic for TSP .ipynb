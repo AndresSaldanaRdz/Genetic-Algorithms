{
 "cells": [
  {
   "cell_type": "code",
   "execution_count": 172,
   "id": "737708cf",
   "metadata": {},
   "outputs": [],
   "source": [
    "from random import randint, random, sample\n",
    "import math\n",
    "import pandas as pd\n",
    "import numpy as np\n",
    "import time"
   ]
  },
  {
   "cell_type": "code",
   "execution_count": 3,
   "id": "5bd9d67f",
   "metadata": {},
   "outputs": [
    {
     "data": {
      "text/plain": [
       "matrix([[   0,  772,  466,  996, 1143,   87,  889,  760],\n",
       "        [ 772,    0,  322,  629,  776,  682, 1171,  389],\n",
       "        [ 466,  322,    0,  652,  799,  373,  882,  416],\n",
       "        [ 996,  629,  652,    0,  138,  905, 1521,  240],\n",
       "        [1143,  776,  799,  138,    0, 1051, 1668,  387],\n",
       "        [  87,  682,  373,  905, 1051,    0,  805,  674],\n",
       "        [ 889, 1171,  882, 1521, 1688,  805,    0, 1297],\n",
       "        [ 760,  389,  416,  240,  387,  674, 1297,    0]])"
      ]
     },
     "execution_count": 3,
     "metadata": {},
     "output_type": "execute_result"
    }
   ],
   "source": [
    "\n",
    "mat = np.matrix([[0,772,466,996,1143,87,889,760]\n",
    "                 ,[772,0,322,629,776,682,1171,389]\n",
    "                 ,[466,322,0,652,799,373,882,416]\n",
    "                 ,[996,629,652,0,138,905,1521,240]\n",
    "                 ,[1143,776,799,138,0,1051,1668,387]\n",
    "                 ,[87,682,373,905,1051,0,805,674]\n",
    "                 ,[889,1171,882,1521,1688,805,0,1297]\n",
    "                 ,[760,389,416,240,387,674,1297,0]])\n",
    "mat\n"
   ]
  },
  {
   "cell_type": "code",
   "execution_count": 151,
   "id": "89ad5f66",
   "metadata": {},
   "outputs": [],
   "source": [
    "def check_crom(cromo):\n",
    "    \n",
    "    count = 0\n",
    "\n",
    "    for i in [1,2,3,4,5,6,7]:\n",
    "        if i in cromo[1:8]:\n",
    "            count +=1\n",
    "    \n",
    "    if count == 7:\n",
    "        return True\n",
    "    else:\n",
    "        return False\n",
    "    "
   ]
  },
  {
   "cell_type": "code",
   "execution_count": 89,
   "id": "3dce34e5",
   "metadata": {},
   "outputs": [],
   "source": [
    "def generar_crom(x): \n",
    "    cromosomas = [] \n",
    "    \n",
    "    for i in range(x):\n",
    "        salir = False\n",
    "        \n",
    "        while salir == False:\n",
    "            crom = pd.Series([1,2,3,4,5,6,7], index = [random(),random(),random(),random(),random(),random(),random()]) #mesclamos las posibilidades\n",
    "            crom = crom.sort_index().tolist() #convertimos el pandas sereis a una lista (nos quitamos el indice)\n",
    "            #print(crom)\n",
    "            #if check_crom(crom):\n",
    "            cromosomas.append([0] + crom + [0]) #le añadimos el origen y el final\n",
    "            salir = True\n",
    "        \n",
    "    return cromosomas\n"
   ]
  },
  {
   "cell_type": "code",
   "execution_count": 122,
   "id": "39d69555",
   "metadata": {},
   "outputs": [],
   "source": [
    "def fitness(poblacion,costos):\n",
    "    calculo = 0\n",
    "    \n",
    "    for j in range(len(poblacion)):\n",
    "        calculo = 0\n",
    "        for i in range(2,10):\n",
    "            x = poblacion_inicial[j][i-2:i]\n",
    "            calculo += mat[x[0],x[1]]\n",
    "    \n",
    "        poblacion[j].append(calculo)\n",
    "        \n",
    "    return poblacion\n"
   ]
  },
  {
   "cell_type": "code",
   "execution_count": 132,
   "id": "25394a32",
   "metadata": {},
   "outputs": [],
   "source": [
    "def selection(poblacion,tamaño):\n",
    "    poblacion_sorteada = sorted(poblacion, key=lambda x:x[9]) #sortemos la lista de poblacinoes por costo\n",
    "    \n",
    "    return poblacion_sorteada[0:int(tamaño/2)]"
   ]
  },
  {
   "cell_type": "code",
   "execution_count": 168,
   "id": "59c0633a",
   "metadata": {},
   "outputs": [],
   "source": [
    "def crossover(pob):\n",
    "    \n",
    "    tam = len(pob)\n",
    "    new_pob = []\n",
    "    \n",
    "    for i in range(tam):\n",
    "        salir = False\n",
    "        \n",
    "        while salir == False:\n",
    "            crom = [0] + pob[randint(0,tam-1)][1:5] + pob[randint(0,tam-1)][5:8] + [0]#un padre y una madre \n",
    "            \n",
    "            if check_crom(crom):\n",
    "                new_pob.append(crom)\n",
    "                salir = True\n",
    "        \n",
    "    return new_pob"
   ]
  },
  {
   "cell_type": "code",
   "execution_count": 202,
   "id": "c6b9faac",
   "metadata": {},
   "outputs": [],
   "source": [
    "def mutacion(pob):\n",
    "    \n",
    "    tam = len(pob)\n",
    "    new_pob = []\n",
    "    \n",
    "    for i in range(tam):\n",
    "        salir = False\n",
    "        \n",
    "        while salir == False:\n",
    "            \n",
    "            z = sample([1,2,3,4,5,6,7],2)\n",
    "            \n",
    "            crom = pob[randint(0,tam-1)]\n",
    "            \n",
    "            crom[z[0]], crom[z[1]] = crom[z[1]], crom[z[0]]\n",
    "            \n",
    "            if check_crom(crom):\n",
    "                new_pob.append(crom[0:9])\n",
    "                salir = True\n",
    "                \n",
    "    return new_pob"
   ]
  },
  {
   "cell_type": "code",
   "execution_count": 220,
   "id": "b2cffbb9",
   "metadata": {},
   "outputs": [
    {
     "name": "stdout",
     "output_type": "stream",
     "text": [
      "Nueva Poblacion Seleccionada\n",
      "[0, 1, 5, 4, 3, 2, 6, 7, 0, 3999]\n",
      "[0, 6, 4, 1, 3, 5, 2, 7, 0, 4006]\n",
      "[0, 1, 5, 3, 2, 6, 4, 7, 0, 4006]\n",
      "[0, 1, 7, 4, 3, 2, 6, 5, 0, 4086]\n",
      "[0, 3, 4, 1, 5, 2, 7, 6, 0, 4090]\n",
      " \n",
      "Tiempo: 5.2319111824035645\n",
      "Generacion 0\n"
     ]
    }
   ],
   "source": [
    "inicio = time.time()\n",
    "\n",
    "tamaño = 1000\n",
    "poblacion_inicial = generar_crom(tamaño)\n",
    "poblacion_inicial = fitness(poblacion_inicial,mat)\n",
    "poblacion_seleccionada = selection(poblacion_inicial,tamaño)\n",
    "contador = 0\n",
    "\n",
    "for i in range(100):\n",
    "    nueva_poblacion1 = crossover(poblacion_seleccionada) #creamos la mitad como hijos\n",
    "    nueva_poblacion2 = mutacion(poblacion_seleccionada) #mutamos la otra mitad\n",
    "    nueva_poblacion = nueva_poblacion1 + nueva_poblacion2\n",
    "    nueva_poblacion = fitness(nueva_poblacion,mat)\n",
    "    nueva_poblacion_seleccionada = selection(nueva_poblacion,tamaño)\n",
    "\n",
    "\n",
    "print(\"Nueva Poblacion Seleccionada\")\n",
    "for i in nueva_poblacion_seleccionada[:5]:\n",
    "    print(i)\n",
    "\n",
    "fin = time.time()\n",
    "print(\" \")\n",
    "print(f\"Tiempo: {fin-inicio}\")\n",
    "print(f\"Generacion {contador}\")"
   ]
  },
  {
   "cell_type": "code",
   "execution_count": null,
   "id": "56107929",
   "metadata": {},
   "outputs": [],
   "source": []
  },
  {
   "cell_type": "code",
   "execution_count": null,
   "id": "ebf3656b",
   "metadata": {},
   "outputs": [],
   "source": []
  },
  {
   "cell_type": "code",
   "execution_count": 213,
   "id": "9e8c699b",
   "metadata": {},
   "outputs": [
    {
     "name": "stdout",
     "output_type": "stream",
     "text": [
      "Poblacion Inicial\n",
      "[0, 4, 5, 3, 1, 7, 2, 6, 0, 5556]\n",
      "[0, 1, 7, 2, 3, 6, 4, 5, 0, 6576]\n",
      "[0, 2, 5, 1, 4, 6, 7, 3, 0, 6498]\n",
      "[0, 3, 2, 7, 4, 5, 6, 1, 0, 6250]\n",
      "[0, 6, 5, 7, 2, 4, 3, 1, 0, 5122]\n",
      "\n",
      "Poblacion Seleccionada\n",
      "[0, 4, 2, 7, 3, 6, 1, 5, 0, 4110]\n",
      "[0, 1, 4, 3, 7, 2, 5, 6, 0, 4405]\n",
      "[0, 5, 7, 1, 4, 3, 2, 6, 0, 4487]\n",
      "[0, 5, 2, 3, 7, 4, 1, 6, 0, 4575]\n",
      "[0, 6, 2, 4, 3, 7, 1, 5, 0, 4595]\n",
      "\n",
      "Nueva Poblacion\n",
      "[0, 5, 7, 2, 3, 4, 6, 1, 0, 6304]\n",
      "[0, 2, 5, 7, 6, 3, 4, 1, 0, 6576]\n",
      "[0, 2, 5, 7, 6, 3, 4, 1, 0, 6498]\n",
      "[0, 7, 2, 1, 6, 5, 4, 3, 0, 6250]\n",
      "[0, 2, 7, 3, 4, 1, 5, 6, 0, 5122]\n",
      "\n",
      "Nueva Poblacion Seleccionada\n",
      "[0, 6, 4, 3, 2, 5, 7, 1, 0, 4106]\n",
      "[0, 6, 4, 3, 2, 1, 5, 7, 0, 4409]\n",
      "[0, 2, 6, 1, 3, 5, 7, 4, 0, 4487]\n",
      "[0, 6, 3, 4, 1, 7, 2, 5, 0, 4572]\n",
      "[0, 6, 2, 4, 3, 5, 7, 1, 0, 4575]\n"
     ]
    }
   ],
   "source": [
    "tamaño = 100\n",
    "\n",
    "poblacion_inicial = generar_crom(tamaño)\n",
    "poblacion_inicial = fitness(poblacion_inicial,mat)\n",
    "poblacion_seleccionada = selection(poblacion_inicial,tamaño)\n",
    "\n",
    "nueva_poblacion1 = crossover(poblacion_seleccionada) #creamos la mitad como hijos\n",
    "nueva_poblacion2 = mutacion(poblacion_seleccionada) #mutamos la otra mitad\n",
    "nueva_poblacion = nueva_poblacion1 + nueva_poblacion2\n",
    "nueva_poblacion = fitness(nueva_poblacion,mat)\n",
    "nueva_poblacion_seleccionada = selection(nueva_poblacion,tamaño)\n",
    "\n",
    "print(\"Poblacion Inicial\")\n",
    "for i in poblacion_inicial[:5]:\n",
    "    print(i)\n",
    "\n",
    "print(\"\")\n",
    "    \n",
    "print(\"Poblacion Seleccionada\")\n",
    "for i in poblacion_seleccionada[:5]:\n",
    "    print(i)\n",
    "    \n",
    "print(\"\")\n",
    "    \n",
    "print(\"Nueva Poblacion\")\n",
    "for i in nueva_poblacion[:5]:\n",
    "    print(i)\n",
    "    \n",
    "print(\"\")\n",
    "\n",
    "print(\"Nueva Poblacion Seleccionada\")\n",
    "for i in nueva_poblacion_seleccionada[:5]:\n",
    "    print(i)\n",
    "    "
   ]
  },
  {
   "cell_type": "code",
   "execution_count": null,
   "id": "0c92b954",
   "metadata": {},
   "outputs": [],
   "source": []
  },
  {
   "cell_type": "code",
   "execution_count": null,
   "id": "34d2ce45",
   "metadata": {},
   "outputs": [],
   "source": []
  }
 ],
 "metadata": {
  "kernelspec": {
   "display_name": "Python 3 (ipykernel)",
   "language": "python",
   "name": "python3"
  },
  "language_info": {
   "codemirror_mode": {
    "name": "ipython",
    "version": 3
   },
   "file_extension": ".py",
   "mimetype": "text/x-python",
   "name": "python",
   "nbconvert_exporter": "python",
   "pygments_lexer": "ipython3",
   "version": "3.9.12"
  }
 },
 "nbformat": 4,
 "nbformat_minor": 5
}
